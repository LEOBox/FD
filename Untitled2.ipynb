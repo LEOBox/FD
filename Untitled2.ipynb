{
 "cells": [
  {
   "cell_type": "code",
   "execution_count": 11,
   "metadata": {},
   "outputs": [],
   "source": [
    "from keras.layers import Conv2D, MaxPooling2D, Dense, Input\n",
    "from keras.models import Model"
   ]
  },
  {
   "cell_type": "code",
   "execution_count": 40,
   "metadata": {
    "collapsed": true
   },
   "outputs": [],
   "source": [
    "inp = Input((160,160,3))"
   ]
  },
  {
   "cell_type": "code",
   "execution_count": 66,
   "metadata": {
    "collapsed": true
   },
   "outputs": [],
   "source": [
    "conv1_1 = Conv2D(64,(3,3),padding='same')(inp)\n",
    "conv1_2 = Conv2D(64,(3,3),padding='same')(conv1_1)\n",
    "pool1 = MaxPooling2D(pool_size=(2,2), strides=(2,2))(conv1_2)\n",
    "conv2_1 = Conv2D(128,(3,3),padding='same')(pool1)\n",
    "conv2_2 = Conv2D(128,(3,3),padding='same')(conv2_1)\n",
    "pool2 = MaxPooling2D(pool_size=(2,2), strides=(2,2))(conv2_2)\n",
    "conv3_1 = Conv2D(256,(3,3),padding='same')(pool2)\n",
    "conv3_2 = Conv2D(256,(3,3),padding='same')(conv3_1)\n",
    "pool3 = MaxPooling2D(pool_size=(2,2), strides=(2,2))(conv3_2)\n",
    "conv4_1 = Conv2D(512,(5,5),padding='same')(pool3)\n",
    "conv4_2 = Conv2D(512,(5,5),padding='same')(conv4_1)\n",
    "pool4 = MaxPooling2D(pool_size=(2,2), strides=(2,2))(conv4_2)\n",
    "conv5_1 = Conv2D(512,(5,5),padding='valid')(pool4)"
   ]
  },
  {
   "cell_type": "code",
   "execution_count": 67,
   "metadata": {
    "collapsed": true
   },
   "outputs": [],
   "source": [
    "model = Model(inputs=inp, outputs=conv5_1)"
   ]
  },
  {
   "cell_type": "code",
   "execution_count": 68,
   "metadata": {},
   "outputs": [
    {
     "name": "stdout",
     "output_type": "stream",
     "text": [
      "_________________________________________________________________\n",
      "Layer (type)                 Output Shape              Param #   \n",
      "=================================================================\n",
      "input_3 (InputLayer)         (None, 160, 160, 3)       0         \n",
      "_________________________________________________________________\n",
      "conv2d_117 (Conv2D)          (None, 160, 160, 64)      1792      \n",
      "_________________________________________________________________\n",
      "conv2d_118 (Conv2D)          (None, 160, 160, 64)      36928     \n",
      "_________________________________________________________________\n",
      "max_pooling2d_47 (MaxPooling (None, 80, 80, 64)        0         \n",
      "_________________________________________________________________\n",
      "conv2d_119 (Conv2D)          (None, 80, 80, 128)       73856     \n",
      "_________________________________________________________________\n",
      "conv2d_120 (Conv2D)          (None, 80, 80, 128)       147584    \n",
      "_________________________________________________________________\n",
      "max_pooling2d_48 (MaxPooling (None, 40, 40, 128)       0         \n",
      "_________________________________________________________________\n",
      "conv2d_121 (Conv2D)          (None, 40, 40, 256)       295168    \n",
      "_________________________________________________________________\n",
      "conv2d_122 (Conv2D)          (None, 40, 40, 256)       590080    \n",
      "_________________________________________________________________\n",
      "max_pooling2d_49 (MaxPooling (None, 20, 20, 256)       0         \n",
      "_________________________________________________________________\n",
      "conv2d_123 (Conv2D)          (None, 20, 20, 512)       3277312   \n",
      "_________________________________________________________________\n",
      "conv2d_124 (Conv2D)          (None, 20, 20, 512)       6554112   \n",
      "_________________________________________________________________\n",
      "max_pooling2d_50 (MaxPooling (None, 10, 10, 512)       0         \n",
      "_________________________________________________________________\n",
      "conv2d_125 (Conv2D)          (None, 6, 6, 512)         6554112   \n",
      "=================================================================\n",
      "Total params: 17,530,944\n",
      "Trainable params: 17,530,944\n",
      "Non-trainable params: 0\n",
      "_________________________________________________________________\n"
     ]
    }
   ],
   "source": [
    "model.summary()"
   ]
  },
  {
   "cell_type": "code",
   "execution_count": null,
   "metadata": {
    "collapsed": true
   },
   "outputs": [],
   "source": []
  }
 ],
 "metadata": {
  "anaconda-cloud": {},
  "kernelspec": {
   "display_name": "Python [conda root]",
   "language": "python",
   "name": "conda-root-py"
  },
  "language_info": {
   "codemirror_mode": {
    "name": "ipython",
    "version": 3
   },
   "file_extension": ".py",
   "mimetype": "text/x-python",
   "name": "python",
   "nbconvert_exporter": "python",
   "pygments_lexer": "ipython3",
   "version": "3.5.2"
  }
 },
 "nbformat": 4,
 "nbformat_minor": 1
}
